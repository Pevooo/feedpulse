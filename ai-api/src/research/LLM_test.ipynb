{
 "cells": [
  {
   "cell_type": "code",
   "id": "initial_id",
   "metadata": {
    "collapsed": true,
    "ExecuteTime": {
     "end_time": "2025-01-23T19:34:35.342404Z",
     "start_time": "2025-01-23T19:34:34.608471Z"
    }
   },
   "source": [
    "from src.models.HFQwen72BModel import HFQwen72BModel\n",
    "from src.models.gemini_model import GeminiModel\n",
    "from src.models.prompt import Prompt"
   ],
   "outputs": [
    {
     "name": "stderr",
     "output_type": "stream",
     "text": [
      "C:\\Users\\pevod\\AppData\\Local\\Programs\\Python\\Python310\\lib\\site-packages\\tqdm\\auto.py:21: TqdmWarning: IProgress not found. Please update jupyter and ipywidgets. See https://ipywidgets.readthedocs.io/en/stable/user_install.html\n",
      "  from .autonotebook import tqdm as notebook_tqdm\n"
     ]
    }
   ],
   "execution_count": 2
  },
  {
   "metadata": {
    "ExecuteTime": {
     "end_time": "2025-01-23T19:34:36.192375Z",
     "start_time": "2025-01-23T19:34:36.184449Z"
    }
   },
   "cell_type": "code",
   "source": [
    "gemini = GeminiModel()\n",
    "qwen72 = HFQwen72BModel()"
   ],
   "id": "c1aef1bb4d478da9",
   "outputs": [],
   "execution_count": 3
  },
  {
   "metadata": {
    "ExecuteTime": {
     "end_time": "2025-01-23T19:41:10.204380Z",
     "start_time": "2025-01-23T19:41:10.188308Z"
    }
   },
   "cell_type": "code",
   "source": [
    "def validate_response(response: str, batch_size: int, expected_answers: list[list[str]]):\n",
    "    for text in expected_answers:\n",
    "        for i in range(len(text)):\n",
    "            text[i] = text[i].lower()\n",
    "    try:\n",
    "        batch = response.split('|')[:batch_size]\n",
    "    except ValueError:\n",
    "        print(\"FAIL: Wrong response structure\")\n",
    "        return\n",
    "\n",
    "    if len(batch) != batch_size:\n",
    "        print(f\"FAIL: Wrong batch size, expected {batch_size}, got {len(batch)}\")\n",
    "        return\n",
    "\n",
    "    count_all = 0\n",
    "    count_extra = 0\n",
    "    count_missing = 0\n",
    "    for text, expected_answer in zip(batch, expected_answers):\n",
    "        topics = text.split(',')\n",
    "        for topic in expected_answer:\n",
    "            count_all += 1\n",
    "            if topic not in topics:\n",
    "                count_missing += 1\n",
    "\n",
    "        for topic in topics:\n",
    "            count_all += 1\n",
    "            if topic not in expected_answer:\n",
    "                count_extra += 1\n",
    "\n",
    "    missing_score = (count_all - count_missing) / count_all\n",
    "    extra_score = (count_all - count_extra) / count_all\n",
    "    mixed_score = (count_all - count_extra - count_missing) / count_all\n",
    "    print(f\"Missing Topics Score: {missing_score}\") # Closer to one is better\n",
    "    print(f\"Extra Topics Score: {extra_score}\")\n",
    "    print(f\"Mixed Score: {mixed_score}\")\n",
    "    if missing_score < 0.8:\n",
    "        print(\"FAIL: Low Missing Topics Score\")\n",
    "    if extra_score < 0.8:\n",
    "        print(\"FAIL: Low Extra Topics Score\")\n",
    "    if missing_score < 0.8:\n",
    "        print(f\"FAIL: Low Mixed Score\")\n",
    "\n",
    "    if extra_score < 0.8 or missing_score < 0.8 or extra_score < 0.8: return\n",
    "\n",
    "    print(f\"Batch Size: {batch_size} batch size test SUCCESSFUL\")"
   ],
   "id": "bae3331ff2464b16",
   "outputs": [],
   "execution_count": 16
  },
  {
   "metadata": {
    "ExecuteTime": {
     "end_time": "2025-01-23T19:34:41.193811Z",
     "start_time": "2025-01-23T19:34:41.164461Z"
    }
   },
   "cell_type": "code",
   "source": [
    "prompt_en_32b = Prompt(\n",
    "    instructions=(\n",
    "                \"Identify and list only the relevant topics from the provided list that \"\n",
    "                f\"relate to the content of the text. The topics are: Food, Cleanliness, Staff, Activities.\\n\"\n",
    "                \"Only respond with relevant topics. If no topics are relevant, respond with 'no relevant topics found.'\"\n",
    "                \"Don't add a space after or before each topic\"\n",
    "                \"For each comment that starts with Text{n} write the relevant topics, for separating topics use a comma, for separating each text use |\"\n",
    "            ),\n",
    "            context=None,\n",
    "            examples=(\n",
    "                (\n",
    "                    \"I didn't enjoy the food; it was bland and lacked variety.\",\n",
    "                    \"food quality\",\n",
    "                ),\n",
    "                (\n",
    "                    \"The check-in process was very slow and we had to wait for over an hour.\",\n",
    "                    \"customer service,wait time\",\n",
    "                ),\n",
    "                (\n",
    "                    \"The service was excellent; the staff were always polite, friendly, and eager to help.\",\n",
    "                    \"service\",\n",
    "                ),\n",
    "                (\n",
    "                    \"\\nTEXT1: I didn't enjoy the food; it was bland and lacked variety.\\n\"\n",
    "                    \"TEXT2: The check-in process was very slow and we had to wait for over an hour.\\n\"\n",
    "                    \"TEXT3: The service was excellent; the staff were always polite, friendly, and eager to help.\\n\",\n",
    "                    \"food quality|customer service,wait time|service\",\n",
    "                ),\n",
    "            ),\n",
    "            input_text=(\n",
    "                \"Text{1}: This food is good, that guy treated me well\\n\"\n",
    "                \"Text{2}: the food isn't that good\\n\"\n",
    "                \"Text{3}: the food is perfect\\n\"\n",
    "                \"Text{4}: I wanted to play volleyball\\n\"\n",
    "                \"Text{5}: I love myself\\n\"\n",
    "                \"Text{6}: This food is good, that guy treated me well\\n\"\n",
    "                \"Text{7}: the food isn't that good\\n\"\n",
    "                \"Text{8}: the food is perfect\\n\"\n",
    "                \"Text{9}: I wanted to play voleyball\\n\"\n",
    "                \"Text{10}: I love myself\\n\"\n",
    "                \"Text{11}: This food is good, that guy treated me well\\n\"\n",
    "                \"Text{12}: the food isn't that good\\n\"\n",
    "                \"Text{13}: the food is perfect\\n\"\n",
    "                \"Text{14}: I wanted to play voleyball\\n\"\n",
    "                \"Text{15}: I love myself\\n\"\n",
    "                \"Text{16}: This food is good, that guy treated me well\\n\"\n",
    "                \"Text{17}: the food isn't that good\\n\"\n",
    "                \"Text{18}: the food is perfect\\n\"\n",
    "                \"Text{19}: I wanted to play voleyball\\n\"\n",
    "                \"Text{20}: I love myself\\n\"\n",
    "                \"Text{21}: This food is good, that guy treated me well\\n\"\n",
    "                \"Text{22}: the food isn't that good\\n\"\n",
    "                \"Text{23}: the food is perfect\\n\"\n",
    "                \"Text{24}: I wanted to play voleyball\\n\"\n",
    "                \"Text{25}: I love myself\\n\"\n",
    "                \"Text{26}: This food is good, that guy treated me well\\n\"\n",
    "                \"Text{27}: the food isn't that good\\n\"\n",
    "                \"Text{28}: the food is perfect\\n\"\n",
    "                \"Text{29}: I wanted to play voleyball\\n\"\n",
    "                \"Text{30}: I love myself\\n\"\n",
    "                \"Text{31}: I wanted to play voleyball\\n\"\n",
    "                \"Text{32}: I love myself\\n\"\n",
    "            ),\n",
    "        )"
   ],
   "id": "b39ced92098088c",
   "outputs": [],
   "execution_count": 5
  },
  {
   "metadata": {
    "ExecuteTime": {
     "end_time": "2025-01-23T19:14:31.811226Z",
     "start_time": "2025-01-23T19:14:31.804946Z"
    }
   },
   "cell_type": "code",
   "source": [
    "prompt_en_16b = prompt_en_32b\n",
    "prompt_en_16b.input_text = (\n",
    "                \"Text1: This food is good, that guy treated me well\\n\"\n",
    "                \"Text2: the food isn't that good\\n\"\n",
    "                \"Text3: the food is perfect\\n\"\n",
    "                \"Text4: I wanted to play volleyball\\n\"\n",
    "                \"Text5: I love myself\\n\"\n",
    "                \"Text6: This food is good, that guy treated me well\\n\"\n",
    "                \"Text7: the food isn't that good\\n\"\n",
    "                \"Text8: the food is perfect\\n\"\n",
    "                \"Text9: I wanted to play voleyball\\n\"\n",
    "                \"Text10: I love myself\\n\"\n",
    "                \"Text11: This food is good, that guy treated me well\\n\"\n",
    "                \"Text12: the food isn't that good\\n\"\n",
    "                \"Text13: the food is perfect\\n\"\n",
    "                \"Text14: I wanted to play voleyball\\n\"\n",
    "                \"Text15: I love myself\\n\"\n",
    "                \"Text16: This food is good, that guy treated me well\\n\"\n",
    ")"
   ],
   "id": "ece9f9a9ef7245c7",
   "outputs": [],
   "execution_count": 5
  },
  {
   "metadata": {
    "ExecuteTime": {
     "end_time": "2025-01-23T19:18:07.910738Z",
     "start_time": "2025-01-23T19:18:07.904641Z"
    }
   },
   "cell_type": "code",
   "source": [
    "prompt_en_8b = prompt_en_32b\n",
    "prompt_en_8b.input_text = (\n",
    "                \"Text{1}: This food is good, that guy treated me well\\n\"\n",
    "                \"Text{2}: the food isn't that good\\n\"\n",
    "                \"Text{3}: the food is perfect\\n\"\n",
    "                \"Text{4}: I wanted to play volleyball\\n\"\n",
    "                \"Text{5}: I love myself\\n\"\n",
    "                \"Text{6}: This food is good, that guy treated me well\\n\"\n",
    "                \"Text{7}: the food isn't that good\\n\"\n",
    "                \"Text{8}: the food is perfect\\n\"\n",
    ")"
   ],
   "id": "1801b90dc6c4f50e",
   "outputs": [],
   "execution_count": 26
  },
  {
   "metadata": {
    "ExecuteTime": {
     "end_time": "2025-01-23T19:34:45.460255Z",
     "start_time": "2025-01-23T19:34:45.444233Z"
    }
   },
   "cell_type": "code",
   "source": [
    "expected_answers = [\n",
    "    [\"Food\", \"Staff\"],\n",
    "    [\"Food\"],\n",
    "    [\"Food\"],\n",
    "    [\"Activities\"],\n",
    "    [\"no relevant topics found\"],\n",
    "    [\"Food\", \"Staff\"],\n",
    "    [\"Food\"],\n",
    "    [\"Food\"],\n",
    "    [\"Activities\"],\n",
    "    [\"no relevant topics found\"],\n",
    "    [\"Food\", \"Staff\"],\n",
    "    [\"Food\"],\n",
    "    [\"Food\"],\n",
    "    [\"Activities\"],\n",
    "    [\"no relevant topics found\"],\n",
    "    [\"Food\", \"Staff\"],\n",
    "    [\"Food\"],\n",
    "    [\"Food\"],\n",
    "    [\"Activities\"],\n",
    "    [\"no relevant topics found\"],\n",
    "    [\"Food\", \"Staff\"],\n",
    "    [\"Food\"],\n",
    "    [\"Food\"],\n",
    "    [\"Activities\"],\n",
    "    [\"no relevant topics found\"],\n",
    "    [\"Food\", \"Staff\"],\n",
    "    [\"Food\"],\n",
    "    [\"Food\"],\n",
    "    [\"Activities\"],\n",
    "    [\"no relevant topics found\"],\n",
    "    [\"Activities\"],\n",
    "    [\"no relevant topics found\"],\n",
    "]"
   ],
   "id": "3bc1f42bf5f35eb7",
   "outputs": [],
   "execution_count": 6
  },
  {
   "metadata": {
    "ExecuteTime": {
     "end_time": "2025-01-23T19:34:52.168175Z",
     "start_time": "2025-01-23T19:34:52.164152Z"
    }
   },
   "cell_type": "code",
   "source": "print(str(prompt_en_32b))",
   "id": "40f3b1e086f968a4",
   "outputs": [
    {
     "name": "stdout",
     "output_type": "stream",
     "text": [
      "Instructions: Identify and list only the relevant topics from the provided list that relate to the content of the text. The topics are: Food, Cleanliness, Staff, Activities.\n",
      "Only respond with relevant topics. If no topics are relevant, respond with 'no relevant topics found.'Don't add a space after or before each topicFor each comment that starts with Text{n} write the relevant topics, for separating topics use a comma, for separating each text use |\n",
      "Examples:\n",
      "When provided with I didn't enjoy the food; it was bland and lacked variety., expected output should be food quality\n",
      "When provided with The check-in process was very slow and we had to wait for over an hour., expected output should be customer service,wait time\n",
      "When provided with The service was excellent; the staff were always polite, friendly, and eager to help., expected output should be service\n",
      "When provided with \n",
      "TEXT1: I didn't enjoy the food; it was bland and lacked variety.\n",
      "TEXT2: The check-in process was very slow and we had to wait for over an hour.\n",
      "TEXT3: The service was excellent; the staff were always polite, friendly, and eager to help.\n",
      ", expected output should be food quality|customer service,wait time|service\n",
      "Prompt:\n",
      "Text{1}: This food is good, that guy treated me well\n",
      "Text{2}: the food isn't that good\n",
      "Text{3}: the food is perfect\n",
      "Text{4}: I wanted to play volleyball\n",
      "Text{5}: I love myself\n",
      "Text{6}: This food is good, that guy treated me well\n",
      "Text{7}: the food isn't that good\n",
      "Text{8}: the food is perfect\n",
      "Text{9}: I wanted to play voleyball\n",
      "Text{10}: I love myself\n",
      "Text{11}: This food is good, that guy treated me well\n",
      "Text{12}: the food isn't that good\n",
      "Text{13}: the food is perfect\n",
      "Text{14}: I wanted to play voleyball\n",
      "Text{15}: I love myself\n",
      "Text{16}: This food is good, that guy treated me well\n",
      "Text{17}: the food isn't that good\n",
      "Text{18}: the food is perfect\n",
      "Text{19}: I wanted to play voleyball\n",
      "Text{20}: I love myself\n",
      "Text{21}: This food is good, that guy treated me well\n",
      "Text{22}: the food isn't that good\n",
      "Text{23}: the food is perfect\n",
      "Text{24}: I wanted to play voleyball\n",
      "Text{25}: I love myself\n",
      "Text{26}: This food is good, that guy treated me well\n",
      "Text{27}: the food isn't that good\n",
      "Text{28}: the food is perfect\n",
      "Text{29}: I wanted to play voleyball\n",
      "Text{30}: I love myself\n",
      "Text{31}: I wanted to play voleyball\n",
      "Text{32}: I love myself\n",
      "\n",
      "\n"
     ]
    }
   ],
   "execution_count": 7
  },
  {
   "metadata": {
    "ExecuteTime": {
     "end_time": "2025-01-23T19:38:18.490225Z",
     "start_time": "2025-01-23T19:38:18.304100Z"
    }
   },
   "cell_type": "code",
   "source": "response = qwen72.generate_content(prompt_en_32b).lower()",
   "id": "35bebc993c079d69",
   "outputs": [],
   "execution_count": 13
  },
  {
   "metadata": {
    "ExecuteTime": {
     "end_time": "2025-01-23T19:38:19.506445Z",
     "start_time": "2025-01-23T19:38:19.494355Z"
    }
   },
   "cell_type": "code",
   "source": "print(response)",
   "id": "409d6e5f22f2e0ab",
   "outputs": [
    {
     "name": "stdout",
     "output_type": "stream",
     "text": [
      "food,staff|food|food|activities|no relevant topics found|food,staff|food|food|activities|no relevant topics found|food,staff|food|food|activities|no relevant topics found|food,staff|food|food|activities|no relevant topics found|food,staff|food|food|activities|no relevant topics found|food,staff|food|food|activities|no relevant topics found|activities|no relevant topics found\n"
     ]
    }
   ],
   "execution_count": 14
  },
  {
   "metadata": {
    "ExecuteTime": {
     "end_time": "2025-01-23T19:41:17.356250Z",
     "start_time": "2025-01-23T19:41:17.344091Z"
    }
   },
   "cell_type": "code",
   "source": "validate_response(response, 32, expected_answers[:32])",
   "id": "c95f1fcc0ef4ce12",
   "outputs": [
    {
     "name": "stdout",
     "output_type": "stream",
     "text": [
      "Missing Topics Score: 1.0\n",
      "Extra Topics Score: 1.0\n",
      "Mixed Score: 1.0\n",
      "Batch Size: 32 batch size test SUCCESSFUL\n"
     ]
    }
   ],
   "execution_count": 17
  }
 ],
 "metadata": {
  "kernelspec": {
   "display_name": "Python 3",
   "language": "python",
   "name": "python3"
  },
  "language_info": {
   "codemirror_mode": {
    "name": "ipython",
    "version": 2
   },
   "file_extension": ".py",
   "mimetype": "text/x-python",
   "name": "python",
   "nbconvert_exporter": "python",
   "pygments_lexer": "ipython2",
   "version": "2.7.6"
  }
 },
 "nbformat": 4,
 "nbformat_minor": 5
}
